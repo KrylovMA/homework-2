{
  "nbformat": 4,
  "nbformat_minor": 0,
  "metadata": {
    "colab": {
      "provenance": []
    },
    "kernelspec": {
      "name": "python3",
      "display_name": "Python 3"
    },
    "language_info": {
      "name": "python"
    }
  },
  "cells": [
    {
      "cell_type": "code",
      "source": [
        "# Задание 1 поиск букв в середине слова\n",
        "word = input(\"введите слово  \").strip()\n",
        "\n",
        "if not word:\n",
        "  print(\"слово не введено\")\n",
        "\n",
        "else:\n",
        "  length = len(word)\n",
        "\n",
        "  mid = length // 2\n",
        "\n",
        "  if length % 2 == 1:\n",
        "    print(f\"Результат : {word[mid]}\")\n",
        "\n",
        "  else:\n",
        "        print(f\"Результат : {word[mid - 1]}{word[mid]}\")\n"
      ],
      "metadata": {
        "colab": {
          "base_uri": "https://localhost:8080/"
        },
        "id": "v4_202bnLNvh",
        "outputId": "0c276d13-1fea-4bdf-8bbb-5b474ef73ff6"
      },
      "execution_count": null,
      "outputs": [
        {
          "output_type": "stream",
          "name": "stdout",
          "text": [
            "введите слово  \n",
            "слово не введено\n"
          ]
        }
      ]
    },
    {
      "cell_type": "code",
      "source": [
        "# Задание 2 список пар\n",
        "boys = ['Peter', 'Alex', 'John', 'Arthur', 'Richard']\n",
        "girls = ['Kate', 'Liza', 'Kira', 'Emma', 'Trisha']\n",
        "boys.sort(), girls.sort()\n",
        "if len(boys) != len(girls):\n",
        "  print(\"Внимание, кто-то может остаться без пары!\")\n",
        "  quit\n",
        "else:\n",
        "  for a, b in zip(boys, girls):\n",
        "    print(a, b)"
      ],
      "metadata": {
        "colab": {
          "base_uri": "https://localhost:8080/"
        },
        "id": "doTvfs3-LshT",
        "outputId": "58690f2a-8152-4a58-f963-107bef0c5351"
      },
      "execution_count": 37,
      "outputs": [
        {
          "output_type": "stream",
          "name": "stdout",
          "text": [
            "Alex Emma\n",
            "Arthur Kate\n",
            "John Kira\n",
            "Peter Liza\n",
            "Richard Trisha\n"
          ]
        }
      ]
    }
  ]
}